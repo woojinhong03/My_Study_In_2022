{
 "cells": [
  {
   "cell_type": "code",
   "execution_count": null,
   "metadata": {},
   "outputs": [],
   "source": []
  }
 ],
 "metadata": {
  "kernelspec": {
   "display_name": "Python 3.10.2 64-bit",
   "language": "python",
   "name": "python3"
  },
  "language_info": {
   "name": "python",
   "version": "3.10.2"
  },
  "orig_nbformat": 4,
  "vscode": {
   "interpreter": {
    "hash": "c3af4d30d22564ed6fdc09c3f556fde6b40df935691aacdf8e1f1b830713bdd3"
   }
  }
 },
 "nbformat": 4,
 "nbformat_minor": 2
}
