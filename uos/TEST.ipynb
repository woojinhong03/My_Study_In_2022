{
 "cells": [
  {
   "cell_type": "code",
   "execution_count": 1,
   "metadata": {},
   "outputs": [],
   "source": [
    "import pandas as pd\n",
    "import numpy as np\n",
    "import matplotlib.pyplot as plt\n",
    "import seaborn as sns\n",
    "from sklearn.metrics import mean_absolute_error"
   ]
  },
  {
   "cell_type": "code",
   "execution_count": 2,
   "metadata": {},
   "outputs": [
    {
     "data": {
      "text/html": [
       "<div>\n",
       "<style scoped>\n",
       "    .dataframe tbody tr th:only-of-type {\n",
       "        vertical-align: middle;\n",
       "    }\n",
       "\n",
       "    .dataframe tbody tr th {\n",
       "        vertical-align: top;\n",
       "    }\n",
       "\n",
       "    .dataframe thead th {\n",
       "        text-align: right;\n",
       "    }\n",
       "</style>\n",
       "<table border=\"1\" class=\"dataframe\">\n",
       "  <thead>\n",
       "    <tr style=\"text-align: right;\">\n",
       "      <th></th>\n",
       "      <th>일시</th>\n",
       "      <th>광진구</th>\n",
       "      <th>동대문구</th>\n",
       "      <th>성동구</th>\n",
       "      <th>중랑구</th>\n",
       "    </tr>\n",
       "  </thead>\n",
       "  <tbody>\n",
       "    <tr>\n",
       "      <th>0</th>\n",
       "      <td>20180101</td>\n",
       "      <td>0.592</td>\n",
       "      <td>0.368</td>\n",
       "      <td>0.580</td>\n",
       "      <td>0.162</td>\n",
       "    </tr>\n",
       "    <tr>\n",
       "      <th>1</th>\n",
       "      <td>20180102</td>\n",
       "      <td>0.840</td>\n",
       "      <td>0.614</td>\n",
       "      <td>1.034</td>\n",
       "      <td>0.260</td>\n",
       "    </tr>\n",
       "    <tr>\n",
       "      <th>2</th>\n",
       "      <td>20180103</td>\n",
       "      <td>0.828</td>\n",
       "      <td>0.576</td>\n",
       "      <td>0.952</td>\n",
       "      <td>0.288</td>\n",
       "    </tr>\n",
       "    <tr>\n",
       "      <th>3</th>\n",
       "      <td>20180104</td>\n",
       "      <td>0.792</td>\n",
       "      <td>0.542</td>\n",
       "      <td>0.914</td>\n",
       "      <td>0.292</td>\n",
       "    </tr>\n",
       "    <tr>\n",
       "      <th>4</th>\n",
       "      <td>20180105</td>\n",
       "      <td>0.818</td>\n",
       "      <td>0.602</td>\n",
       "      <td>0.994</td>\n",
       "      <td>0.308</td>\n",
       "    </tr>\n",
       "    <tr>\n",
       "      <th>...</th>\n",
       "      <td>...</td>\n",
       "      <td>...</td>\n",
       "      <td>...</td>\n",
       "      <td>...</td>\n",
       "      <td>...</td>\n",
       "    </tr>\n",
       "    <tr>\n",
       "      <th>1456</th>\n",
       "      <td>20211227</td>\n",
       "      <td>3.830</td>\n",
       "      <td>3.416</td>\n",
       "      <td>2.908</td>\n",
       "      <td>2.350</td>\n",
       "    </tr>\n",
       "    <tr>\n",
       "      <th>1457</th>\n",
       "      <td>20211228</td>\n",
       "      <td>4.510</td>\n",
       "      <td>3.890</td>\n",
       "      <td>3.714</td>\n",
       "      <td>2.700</td>\n",
       "    </tr>\n",
       "    <tr>\n",
       "      <th>1458</th>\n",
       "      <td>20211229</td>\n",
       "      <td>4.490</td>\n",
       "      <td>3.524</td>\n",
       "      <td>3.660</td>\n",
       "      <td>2.524</td>\n",
       "    </tr>\n",
       "    <tr>\n",
       "      <th>1459</th>\n",
       "      <td>20211230</td>\n",
       "      <td>4.444</td>\n",
       "      <td>3.574</td>\n",
       "      <td>3.530</td>\n",
       "      <td>2.506</td>\n",
       "    </tr>\n",
       "    <tr>\n",
       "      <th>1460</th>\n",
       "      <td>20211231</td>\n",
       "      <td>3.616</td>\n",
       "      <td>3.210</td>\n",
       "      <td>2.620</td>\n",
       "      <td>2.146</td>\n",
       "    </tr>\n",
       "  </tbody>\n",
       "</table>\n",
       "<p>1461 rows × 5 columns</p>\n",
       "</div>"
      ],
      "text/plain": [
       "            일시    광진구   동대문구    성동구    중랑구\n",
       "0     20180101  0.592  0.368  0.580  0.162\n",
       "1     20180102  0.840  0.614  1.034  0.260\n",
       "2     20180103  0.828  0.576  0.952  0.288\n",
       "3     20180104  0.792  0.542  0.914  0.292\n",
       "4     20180105  0.818  0.602  0.994  0.308\n",
       "...        ...    ...    ...    ...    ...\n",
       "1456  20211227  3.830  3.416  2.908  2.350\n",
       "1457  20211228  4.510  3.890  3.714  2.700\n",
       "1458  20211229  4.490  3.524  3.660  2.524\n",
       "1459  20211230  4.444  3.574  3.530  2.506\n",
       "1460  20211231  3.616  3.210  2.620  2.146\n",
       "\n",
       "[1461 rows x 5 columns]"
      ]
     },
     "execution_count": 2,
     "metadata": {},
     "output_type": "execute_result"
    }
   ],
   "source": [
    "# df = pd.read_csv('train.csv', thousands = '.')\n",
    "df = pd.read_csv('train.csv')\n",
    "df"
   ]
  },
  {
   "cell_type": "code",
   "execution_count": 3,
   "metadata": {},
   "outputs": [
    {
     "name": "stdout",
     "output_type": "stream",
     "text": [
      "           일시  광진구  동대문구  성동구  중랑구\n",
      "614  20190907  0.0   0.0  0.0  0.0\n"
     ]
    }
   ],
   "source": [
    "print(df[df['일시'] == 20190907])"
   ]
  },
  {
   "cell_type": "code",
   "execution_count": 4,
   "metadata": {},
   "outputs": [
    {
     "name": "stdout",
     "output_type": "stream",
     "text": [
      "           일시   광진구   동대문구    성동구    중랑구\n",
      "613  20190906  2.02  1.396  1.504  1.024\n",
      "           일시   광진구   동대문구    성동구    중랑구\n",
      "615  20190908  5.83  2.658  4.188  2.482\n"
     ]
    }
   ],
   "source": [
    "print(df[df['일시'] == 20190906])\n",
    "print(df[df['일시'] == 20190908])"
   ]
  },
  {
   "cell_type": "code",
   "execution_count": 5,
   "metadata": {},
   "outputs": [
    {
     "name": "stdout",
     "output_type": "stream",
     "text": [
      "           일시   광진구   동대문구    성동구    중랑구\n",
      "613  20190906  2.02  1.396  1.504  1.024\n",
      "614  20190907  3.93  2.027  2.846  1.753\n",
      "615  20190908  5.83  2.658  4.188  2.482\n"
     ]
    }
   ],
   "source": [
    "df.loc[614] = [20190907, 3.93, 2.027, 2.846, 1.753]\n",
    "print(df[613:616])"
   ]
  },
  {
   "cell_type": "code",
   "execution_count": 6,
   "metadata": {},
   "outputs": [],
   "source": [
    "def get_outlier(df=None, column=None, weight=1.5):\n",
    "      # target 값과 상관관계가 높은 열을 우선적으로 진행\n",
    "  quantile_15 = np.percentile(df[column].values, 25)\n",
    "  quantile_85 = np.percentile(df[column].values, 75)\n",
    "\n",
    "  IQR = quantile_85 - quantile_15\n",
    "  IQR_weight = IQR*weight\n",
    "  \n",
    "  lowest = quantile_15 - IQR_weight\n",
    "  highest = quantile_85 + IQR_weight\n",
    "  \n",
    "  outlier_idx = df[column][ (df[column] < lowest) | (df[column] > highest) ].index\n",
    "  return outlier_idx"
   ]
  },
  {
   "cell_type": "code",
   "execution_count": 7,
   "metadata": {},
   "outputs": [],
   "source": [
    "columns = ['일시',   '광진구',   '동대문구',    '성동구',    '중랑구']\n",
    "\n",
    "for i in columns:\n",
    "    outlier_idx = get_outlier(df=df, column=i, weight=1.5)\n",
    "    df.drop(outlier_idx, axis=0, inplace=True)"
   ]
  },
  {
   "cell_type": "code",
   "execution_count": 8,
   "metadata": {},
   "outputs": [],
   "source": [
    "data = df.drop(['광진구','동대문구','성동구','중랑구'], axis=1).values\n",
    "target = df['광진구'].values"
   ]
  },
  {
   "cell_type": "code",
   "execution_count": 9,
   "metadata": {},
   "outputs": [],
   "source": [
    "from sklearn.model_selection import train_test_split\n",
    "X_train, X_test, y_train, y_test = train_test_split(data, target, random_state=1)"
   ]
  },
  {
   "cell_type": "code",
   "execution_count": 61,
   "metadata": {},
   "outputs": [
    {
     "ename": "AssertionError",
     "evalue": "Must have at least 1 validation dataset for early stopping.",
     "output_type": "error",
     "traceback": [
      "\u001b[1;31m---------------------------------------------------------------------------\u001b[0m",
      "\u001b[1;31mAssertionError\u001b[0m                            Traceback (most recent call last)",
      "Cell \u001b[1;32mIn [61], line 4\u001b[0m\n\u001b[0;32m      1\u001b[0m \u001b[39mimport\u001b[39;00m \u001b[39mxgboost\u001b[39;00m\n\u001b[0;32m      2\u001b[0m xgb_model \u001b[39m=\u001b[39m xgboost\u001b[39m.\u001b[39mXGBRegressor(n_estimators\u001b[39m=\u001b[39m\u001b[39m1000\u001b[39m, learning_rate\u001b[39m=\u001b[39m\u001b[39m0.01\u001b[39m, subsample\u001b[39m=\u001b[39m\u001b[39m0.75\u001b[39m,\n\u001b[0;32m      3\u001b[0m                            colsample_bytree\u001b[39m=\u001b[39m\u001b[39m1\u001b[39m, max_depth\u001b[39m=\u001b[39m\u001b[39m10\u001b[39m, early_stopping_rounds\u001b[39m=\u001b[39m\u001b[39m10\u001b[39m)\n\u001b[1;32m----> 4\u001b[0m xgb_model\u001b[39m.\u001b[39;49mfit(X_train,y_train)\n",
      "File \u001b[1;32mc:\\Users\\wooji\\AppData\\Local\\Programs\\Python\\Python311\\Lib\\site-packages\\xgboost\\core.py:620\u001b[0m, in \u001b[0;36mrequire_keyword_args.<locals>.throw_if.<locals>.inner_f\u001b[1;34m(*args, **kwargs)\u001b[0m\n\u001b[0;32m    618\u001b[0m \u001b[39mfor\u001b[39;00m k, arg \u001b[39min\u001b[39;00m \u001b[39mzip\u001b[39m(sig\u001b[39m.\u001b[39mparameters, args):\n\u001b[0;32m    619\u001b[0m     kwargs[k] \u001b[39m=\u001b[39m arg\n\u001b[1;32m--> 620\u001b[0m \u001b[39mreturn\u001b[39;00m func(\u001b[39m*\u001b[39;49m\u001b[39m*\u001b[39;49mkwargs)\n",
      "File \u001b[1;32mc:\\Users\\wooji\\AppData\\Local\\Programs\\Python\\Python311\\Lib\\site-packages\\xgboost\\sklearn.py:1051\u001b[0m, in \u001b[0;36mXGBModel.fit\u001b[1;34m(self, X, y, sample_weight, base_margin, eval_set, eval_metric, early_stopping_rounds, verbose, xgb_model, sample_weight_eval_set, base_margin_eval_set, feature_weights, callbacks)\u001b[0m\n\u001b[0;32m   1040\u001b[0m     obj \u001b[39m=\u001b[39m \u001b[39mNone\u001b[39;00m\n\u001b[0;32m   1042\u001b[0m (\n\u001b[0;32m   1043\u001b[0m     model,\n\u001b[0;32m   1044\u001b[0m     metric,\n\u001b[1;32m   (...)\u001b[0m\n\u001b[0;32m   1049\u001b[0m     xgb_model, eval_metric, params, early_stopping_rounds, callbacks\n\u001b[0;32m   1050\u001b[0m )\n\u001b[1;32m-> 1051\u001b[0m \u001b[39mself\u001b[39m\u001b[39m.\u001b[39m_Booster \u001b[39m=\u001b[39m train(\n\u001b[0;32m   1052\u001b[0m     params,\n\u001b[0;32m   1053\u001b[0m     train_dmatrix,\n\u001b[0;32m   1054\u001b[0m     \u001b[39mself\u001b[39;49m\u001b[39m.\u001b[39;49mget_num_boosting_rounds(),\n\u001b[0;32m   1055\u001b[0m     evals\u001b[39m=\u001b[39;49mevals,\n\u001b[0;32m   1056\u001b[0m     early_stopping_rounds\u001b[39m=\u001b[39;49mearly_stopping_rounds,\n\u001b[0;32m   1057\u001b[0m     evals_result\u001b[39m=\u001b[39;49mevals_result,\n\u001b[0;32m   1058\u001b[0m     obj\u001b[39m=\u001b[39;49mobj,\n\u001b[0;32m   1059\u001b[0m     custom_metric\u001b[39m=\u001b[39;49mmetric,\n\u001b[0;32m   1060\u001b[0m     verbose_eval\u001b[39m=\u001b[39;49mverbose,\n\u001b[0;32m   1061\u001b[0m     xgb_model\u001b[39m=\u001b[39;49mmodel,\n\u001b[0;32m   1062\u001b[0m     callbacks\u001b[39m=\u001b[39;49mcallbacks,\n\u001b[0;32m   1063\u001b[0m )\n\u001b[0;32m   1065\u001b[0m \u001b[39mself\u001b[39m\u001b[39m.\u001b[39m_set_evaluation_result(evals_result)\n\u001b[0;32m   1066\u001b[0m \u001b[39mreturn\u001b[39;00m \u001b[39mself\u001b[39m\n",
      "File \u001b[1;32mc:\\Users\\wooji\\AppData\\Local\\Programs\\Python\\Python311\\Lib\\site-packages\\xgboost\\core.py:620\u001b[0m, in \u001b[0;36mrequire_keyword_args.<locals>.throw_if.<locals>.inner_f\u001b[1;34m(*args, **kwargs)\u001b[0m\n\u001b[0;32m    618\u001b[0m \u001b[39mfor\u001b[39;00m k, arg \u001b[39min\u001b[39;00m \u001b[39mzip\u001b[39m(sig\u001b[39m.\u001b[39mparameters, args):\n\u001b[0;32m    619\u001b[0m     kwargs[k] \u001b[39m=\u001b[39m arg\n\u001b[1;32m--> 620\u001b[0m \u001b[39mreturn\u001b[39;00m func(\u001b[39m*\u001b[39;49m\u001b[39m*\u001b[39;49mkwargs)\n",
      "File \u001b[1;32mc:\\Users\\wooji\\AppData\\Local\\Programs\\Python\\Python311\\Lib\\site-packages\\xgboost\\training.py:186\u001b[0m, in \u001b[0;36mtrain\u001b[1;34m(params, dtrain, num_boost_round, evals, obj, feval, maximize, early_stopping_rounds, evals_result, verbose_eval, xgb_model, callbacks, custom_metric)\u001b[0m\n\u001b[0;32m    184\u001b[0m         \u001b[39mbreak\u001b[39;00m\n\u001b[0;32m    185\u001b[0m     bst\u001b[39m.\u001b[39mupdate(dtrain, i, obj)\n\u001b[1;32m--> 186\u001b[0m     \u001b[39mif\u001b[39;00m cb_container\u001b[39m.\u001b[39;49mafter_iteration(bst, i, dtrain, evals):\n\u001b[0;32m    187\u001b[0m         \u001b[39mbreak\u001b[39;00m\n\u001b[0;32m    189\u001b[0m bst \u001b[39m=\u001b[39m cb_container\u001b[39m.\u001b[39mafter_training(bst)\n",
      "File \u001b[1;32mc:\\Users\\wooji\\AppData\\Local\\Programs\\Python\\Python311\\Lib\\site-packages\\xgboost\\callback.py:247\u001b[0m, in \u001b[0;36mCallbackContainer.after_iteration\u001b[1;34m(self, model, epoch, dtrain, evals)\u001b[0m\n\u001b[0;32m    245\u001b[0m     metric_score \u001b[39m=\u001b[39m [(n, \u001b[39mfloat\u001b[39m(s)) \u001b[39mfor\u001b[39;00m n, s \u001b[39min\u001b[39;00m metric_score_str]\n\u001b[0;32m    246\u001b[0m     \u001b[39mself\u001b[39m\u001b[39m.\u001b[39m_update_history(metric_score, epoch)\n\u001b[1;32m--> 247\u001b[0m ret \u001b[39m=\u001b[39m \u001b[39many\u001b[39m(c\u001b[39m.\u001b[39mafter_iteration(model, epoch, \u001b[39mself\u001b[39m\u001b[39m.\u001b[39mhistory)\n\u001b[0;32m    248\u001b[0m           \u001b[39mfor\u001b[39;00m c \u001b[39min\u001b[39;00m \u001b[39mself\u001b[39m\u001b[39m.\u001b[39mcallbacks)\n\u001b[0;32m    249\u001b[0m \u001b[39mreturn\u001b[39;00m ret\n",
      "File \u001b[1;32mc:\\Users\\wooji\\AppData\\Local\\Programs\\Python\\Python311\\Lib\\site-packages\\xgboost\\callback.py:247\u001b[0m, in \u001b[0;36m<genexpr>\u001b[1;34m(.0)\u001b[0m\n\u001b[0;32m    245\u001b[0m     metric_score \u001b[39m=\u001b[39m [(n, \u001b[39mfloat\u001b[39m(s)) \u001b[39mfor\u001b[39;00m n, s \u001b[39min\u001b[39;00m metric_score_str]\n\u001b[0;32m    246\u001b[0m     \u001b[39mself\u001b[39m\u001b[39m.\u001b[39m_update_history(metric_score, epoch)\n\u001b[1;32m--> 247\u001b[0m ret \u001b[39m=\u001b[39m \u001b[39many\u001b[39m(c\u001b[39m.\u001b[39;49mafter_iteration(model, epoch, \u001b[39mself\u001b[39;49m\u001b[39m.\u001b[39;49mhistory)\n\u001b[0;32m    248\u001b[0m           \u001b[39mfor\u001b[39;00m c \u001b[39min\u001b[39;00m \u001b[39mself\u001b[39m\u001b[39m.\u001b[39mcallbacks)\n\u001b[0;32m    249\u001b[0m \u001b[39mreturn\u001b[39;00m ret\n",
      "File \u001b[1;32mc:\\Users\\wooji\\AppData\\Local\\Programs\\Python\\Python311\\Lib\\site-packages\\xgboost\\callback.py:412\u001b[0m, in \u001b[0;36mEarlyStopping.after_iteration\u001b[1;34m(self, model, epoch, evals_log)\u001b[0m\n\u001b[0;32m    410\u001b[0m epoch \u001b[39m+\u001b[39m\u001b[39m=\u001b[39m \u001b[39mself\u001b[39m\u001b[39m.\u001b[39mstarting_round  \u001b[39m# training continuation\u001b[39;00m\n\u001b[0;32m    411\u001b[0m msg \u001b[39m=\u001b[39m \u001b[39m'\u001b[39m\u001b[39mMust have at least 1 validation dataset for early stopping.\u001b[39m\u001b[39m'\u001b[39m\n\u001b[1;32m--> 412\u001b[0m \u001b[39massert\u001b[39;00m \u001b[39mlen\u001b[39m(evals_log\u001b[39m.\u001b[39mkeys()) \u001b[39m>\u001b[39m\u001b[39m=\u001b[39m \u001b[39m1\u001b[39m, msg\n\u001b[0;32m    413\u001b[0m data_name \u001b[39m=\u001b[39m \u001b[39m'\u001b[39m\u001b[39m'\u001b[39m\n\u001b[0;32m    414\u001b[0m \u001b[39mif\u001b[39;00m \u001b[39mself\u001b[39m\u001b[39m.\u001b[39mdata:\n",
      "\u001b[1;31mAssertionError\u001b[0m: Must have at least 1 validation dataset for early stopping."
     ]
    }
   ],
   "source": [
    "import xgboost\n",
    "xgb_model = xgboost.XGBRegressor(n_estimators=1000, learning_rate=0.01, subsample=0.75,\n",
    "                           colsample_bytree=1, max_depth=10)\n",
    "xgb_model.fit(X_train,y_train)"
   ]
  },
  {
   "cell_type": "code",
   "execution_count": 56,
   "metadata": {},
   "outputs": [
    {
     "name": "stdout",
     "output_type": "stream",
     "text": [
      "0.9084622833573364\n",
      "0.6806080661797285\n"
     ]
    }
   ],
   "source": [
    "print(xgb_model.score(X_train,y_train))\n",
    "print(xgb_model.score(X_test,y_test))"
   ]
  },
  {
   "cell_type": "code",
   "execution_count": 57,
   "metadata": {},
   "outputs": [
    {
     "name": "stdout",
     "output_type": "stream",
     "text": [
      "MAE : 1.297\n"
     ]
    }
   ],
   "source": [
    "# ['date','Gwangjin-gu','sum','temp','wind speed','hum','supplementary','sunshine duration','insolation']\n",
    "pred = xgb_model.predict(X_test)\n",
    "mae = mean_absolute_error(y_test,pred)\n",
    "print(f'MAE : {mae:.3f}')"
   ]
  },
  {
   "cell_type": "code",
   "execution_count": 58,
   "metadata": {},
   "outputs": [
    {
     "name": "stdout",
     "output_type": "stream",
     "text": [
      "           일시  광진구  동대문구  성동구  중랑구\n",
      "0    20220101    0     0    0    0\n",
      "1    20220102    0     0    0    0\n",
      "2    20220103    0     0    0    0\n",
      "3    20220104    0     0    0    0\n",
      "4    20220105    0     0    0    0\n",
      "..        ...  ...   ...  ...  ...\n",
      "329  20221126    0     0    0    0\n",
      "330  20221127    0     0    0    0\n",
      "331  20221128    0     0    0    0\n",
      "332  20221129    0     0    0    0\n",
      "333  20221130    0     0    0    0\n",
      "\n",
      "[334 rows x 5 columns]\n"
     ]
    }
   ],
   "source": [
    "sub = pd.read_csv('sample_submission.csv')\n",
    "print(sub)"
   ]
  },
  {
   "cell_type": "code",
   "execution_count": 59,
   "metadata": {},
   "outputs": [
    {
     "data": {
      "text/plain": [
       "array([3.668697, 3.668697, 3.668697, 3.668697, 3.668697, 3.668697,\n",
       "       3.668697, 3.668697, 3.668697, 3.668697, 3.668697, 3.668697,\n",
       "       3.668697, 3.668697, 3.668697, 3.668697, 3.668697, 3.668697,\n",
       "       3.668697, 3.668697, 3.668697, 3.668697, 3.668697, 3.668697,\n",
       "       3.668697, 3.668697, 3.668697, 3.668697, 3.668697, 3.668697,\n",
       "       3.668697, 3.668697, 3.668697, 3.668697, 3.668697, 3.668697,\n",
       "       3.668697, 3.668697, 3.668697, 3.668697, 3.668697, 3.668697,\n",
       "       3.668697, 3.668697, 3.668697, 3.668697, 3.668697, 3.668697,\n",
       "       3.668697, 3.668697, 3.668697, 3.668697, 3.668697, 3.668697,\n",
       "       3.668697, 3.668697, 3.668697, 3.668697, 3.668697, 3.668697,\n",
       "       3.668697, 3.668697, 3.668697, 3.668697, 3.668697, 3.668697,\n",
       "       3.668697, 3.668697, 3.668697, 3.668697, 3.668697, 3.668697,\n",
       "       3.668697, 3.668697, 3.668697, 3.668697, 3.668697, 3.668697,\n",
       "       3.668697, 3.668697, 3.668697, 3.668697, 3.668697, 3.668697,\n",
       "       3.668697, 3.668697, 3.668697, 3.668697, 3.668697, 3.668697,\n",
       "       3.668697, 3.668697, 3.668697, 3.668697, 3.668697, 3.668697,\n",
       "       3.668697, 3.668697, 3.668697, 3.668697, 3.668697, 3.668697,\n",
       "       3.668697, 3.668697, 3.668697, 3.668697, 3.668697, 3.668697,\n",
       "       3.668697, 3.668697, 3.668697, 3.668697, 3.668697, 3.668697,\n",
       "       3.668697, 3.668697, 3.668697, 3.668697, 3.668697, 3.668697,\n",
       "       3.668697, 3.668697, 3.668697, 3.668697, 3.668697, 3.668697,\n",
       "       3.668697, 3.668697, 3.668697, 3.668697, 3.668697, 3.668697,\n",
       "       3.668697, 3.668697, 3.668697, 3.668697, 3.668697, 3.668697,\n",
       "       3.668697, 3.668697, 3.668697, 3.668697, 3.668697, 3.668697,\n",
       "       3.668697, 3.668697, 3.668697, 3.668697, 3.668697, 3.668697,\n",
       "       3.668697, 3.668697, 3.668697, 3.668697, 3.668697, 3.668697,\n",
       "       3.668697, 3.668697, 3.668697, 3.668697, 3.668697, 3.668697,\n",
       "       3.668697, 3.668697, 3.668697, 3.668697, 3.668697, 3.668697,\n",
       "       3.668697, 3.668697, 3.668697, 3.668697, 3.668697, 3.668697,\n",
       "       3.668697, 3.668697, 3.668697, 3.668697, 3.668697, 3.668697,\n",
       "       3.668697, 3.668697, 3.668697, 3.668697, 3.668697, 3.668697,\n",
       "       3.668697, 3.668697, 3.668697, 3.668697, 3.668697, 3.668697,\n",
       "       3.668697, 3.668697, 3.668697, 3.668697, 3.668697, 3.668697,\n",
       "       3.668697, 3.668697, 3.668697, 3.668697, 3.668697, 3.668697,\n",
       "       3.668697, 3.668697, 3.668697, 3.668697, 3.668697, 3.668697,\n",
       "       3.668697, 3.668697, 3.668697, 3.668697, 3.668697, 3.668697,\n",
       "       3.668697, 3.668697, 3.668697, 3.668697, 3.668697, 3.668697,\n",
       "       3.668697, 3.668697, 3.668697, 3.668697, 3.668697, 3.668697,\n",
       "       3.668697, 3.668697, 3.668697, 3.668697, 3.668697, 3.668697,\n",
       "       3.668697, 3.668697, 3.668697, 3.668697, 3.668697, 3.668697,\n",
       "       3.668697, 3.668697, 3.668697, 3.668697, 3.668697, 3.668697,\n",
       "       3.668697, 3.668697, 3.668697, 3.668697, 3.668697, 3.668697,\n",
       "       3.668697, 3.668697, 3.668697, 3.668697, 3.668697, 3.668697,\n",
       "       3.668697, 3.668697, 3.668697, 3.668697, 3.668697, 3.668697,\n",
       "       3.668697, 3.668697, 3.668697, 3.668697, 3.668697, 3.668697,\n",
       "       3.668697, 3.668697, 3.668697, 3.668697, 3.668697, 3.668697,\n",
       "       3.668697, 3.668697, 3.668697, 3.668697, 3.668697, 3.668697,\n",
       "       3.668697, 3.668697, 3.668697, 3.668697, 3.668697, 3.668697,\n",
       "       3.668697, 3.668697, 3.668697, 3.668697, 3.668697, 3.668697,\n",
       "       3.668697, 3.668697, 3.668697, 3.668697, 3.668697, 3.668697,\n",
       "       3.668697, 3.668697, 3.668697, 3.668697, 3.668697, 3.668697,\n",
       "       3.668697, 3.668697, 3.668697, 3.668697, 3.668697, 3.668697,\n",
       "       3.668697, 3.668697, 3.668697, 3.668697, 3.668697, 3.668697,\n",
       "       3.668697, 3.668697, 3.668697, 3.668697, 3.668697, 3.668697,\n",
       "       3.668697, 3.668697, 3.668697, 3.668697, 3.668697, 3.668697,\n",
       "       3.668697, 3.668697, 3.668697, 3.668697], dtype=float32)"
      ]
     },
     "execution_count": 59,
     "metadata": {},
     "output_type": "execute_result"
    }
   ],
   "source": [
    "test = sub['일시']\n",
    "test = test.values.reshape(-1,1)\n",
    "pred = xgb_model.predict(test)\n",
    "pred"
   ]
  },
  {
   "cell_type": "code",
   "execution_count": null,
   "metadata": {},
   "outputs": [],
   "source": []
  }
 ],
 "metadata": {
  "kernelspec": {
   "display_name": "Python 3.11.0 64-bit",
   "language": "python",
   "name": "python3"
  },
  "language_info": {
   "codemirror_mode": {
    "name": "ipython",
    "version": 3
   },
   "file_extension": ".py",
   "mimetype": "text/x-python",
   "name": "python",
   "nbconvert_exporter": "python",
   "pygments_lexer": "ipython3",
   "version": "3.11.0"
  },
  "orig_nbformat": 4,
  "vscode": {
   "interpreter": {
    "hash": "b5e2ef1f9e4e79c4d01c7cc14c34cf90ea37ed5a234ad537e40582f4ec23aa41"
   }
  }
 },
 "nbformat": 4,
 "nbformat_minor": 2
}
